{
 "cells": [
  {
   "cell_type": "code",
   "execution_count": 1,
   "id": "305cf5c1-484c-4061-90ba-caabae447c6d",
   "metadata": {},
   "outputs": [
    {
     "name": "stdout",
     "output_type": "stream",
     "text": [
      "Requirement already satisfied: opencv-python in c:\\users\\lisbeth\\miniforge3\\lib\\site-packages (4.9.0.80)\n",
      "Requirement already satisfied: numpy>=1.21.2 in c:\\users\\lisbeth\\miniforge3\\lib\\site-packages (from opencv-python) (1.26.4)\n",
      "Note: you may need to restart the kernel to use updated packages.\n"
     ]
    }
   ],
   "source": [
    "pip install opencv-python"
   ]
  },
  {
   "cell_type": "code",
   "execution_count": 3,
   "id": "fa9cb57b-9b95-4b4c-9dab-c24023a72e16",
   "metadata": {},
   "outputs": [
    {
     "name": "stdin",
     "output_type": "stream",
     "text": [
      "Enter your ID:  MGP21UCS096\n"
     ]
    },
    {
     "name": "stdout",
     "output_type": "stream",
     "text": [
      "Successfully Captured\n"
     ]
    }
   ],
   "source": [
    "import cv2\n",
    "import os\n",
    "\n",
    "\n",
    "def assure_path_exists(path):\n",
    "    dir = os.path.dirname(path)\n",
    "    if not os.path.exists(dir):\n",
    "        os.makedirs(dir)\n",
    "\n",
    "\n",
    "face_id = input('Enter your ID: ')\n",
    "# Start capturing video\n",
    "vid_cam = cv2.VideoCapture(0)\n",
    "\n",
    "# Detect object in video stream using Haarcascade Frontal Face\n",
    "face_detector = cv2.CascadeClassifier(cv2.data.haarcascades + 'haarcascade_frontalface_default.xml')\n",
    "\n",
    "# Initialize sample face image\n",
    "count = 0\n",
    "\n",
    "dataset_path = \"C:\\\\Users\\\\Lisbeth\\\\dataset\" + face_id + \"/\"\n",
    "assure_path_exists(dataset_path)\n",
    "\n",
    "# Start looping\n",
    "while True:\n",
    "\n",
    "    # Capture video frame\n",
    "    _, image_frame = vid_cam.read()\n",
    "\n",
    "    # Convert frame to grayscale\n",
    "    gray = cv2.cvtColor(image_frame, cv2.COLOR_BGR2GRAY)\n",
    "\n",
    "    # Detect faces of different sizes\n",
    "    faces = face_detector.detectMultiScale(gray, 1.3, 5)\n",
    "\n",
    "    # Loop through each detected face\n",
    "    for (x, y, w, h) in faces:\n",
    "        # Crop the image frame to the detected face\n",
    "        cv2.rectangle(image_frame, (x, y), (x + w, y + h), (255, 0, 0), 2)\n",
    "\n",
    "        # Increment sample face image count\n",
    "        count += 1\n",
    "\n",
    "        # Save the captured image into the user's folder\n",
    "        cv2.imwrite(dataset_path + \"User.\" + str(face_id) + '.' + str(count) + \".jpg\", gray[y:y + h, x:x + w])\n",
    "\n",
    "        # Display the video frame with the bounded rectangle on the person's face\n",
    "        cv2.imshow('frame', image_frame)\n",
    "\n",
    "    # Stop capturing video when 'q' is pressed for at least 100ms\n",
    "    if cv2.waitKey(500) & 0xFF == ord('q'):\n",
    "        break\n",
    "\n",
    "    # If 50 images are captured, stop capturing video\n",
    "    elif count >= 100:\n",
    "        print(\"Successfully Captured\")\n",
    "        break\n",
    "\n",
    "# Release the video capture object\n",
    "vid_cam.release()\n",
    "\n",
    "# Close all open windows\n",
    "cv2.destroyAllWindows()"
   ]
  },
  {
   "cell_type": "code",
   "execution_count": null,
   "id": "f28a4a9a-466f-41b2-ad60-b63cc272aff7",
   "metadata": {},
   "outputs": [],
   "source": []
  }
 ],
 "metadata": {
  "kernelspec": {
   "display_name": "Python 3 (ipykernel)",
   "language": "python",
   "name": "python3"
  },
  "language_info": {
   "codemirror_mode": {
    "name": "ipython",
    "version": 3
   },
   "file_extension": ".py",
   "mimetype": "text/x-python",
   "name": "python",
   "nbconvert_exporter": "python",
   "pygments_lexer": "ipython3",
   "version": "3.10.14"
  }
 },
 "nbformat": 4,
 "nbformat_minor": 5
}
